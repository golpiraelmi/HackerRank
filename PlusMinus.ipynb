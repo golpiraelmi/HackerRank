{
 "cells": [
  {
   "cell_type": "code",
   "execution_count": null,
   "metadata": {},
   "outputs": [],
   "source": [
    "#!/bin/python3\n",
    "\n",
    "import math\n",
    "import os\n",
    "import random\n",
    "import re\n",
    "import sys\n",
    "\n",
    "# Complete the plusMinus function below.\n",
    "def plusMinus(arr):\n",
    "    negatives = 0\n",
    "    positives = 0\n",
    "    zeros = 0\n",
    "\n",
    "    for i in range(n):\n",
    "        if arr[i]<0:\n",
    "            negatives+=1\n",
    "        elif arr[i]>0:\n",
    "            positives+=1\n",
    "        else:\n",
    "            zeros+=1\n",
    "    f_negative= negatives/n\n",
    "    f_positive= positives/n\n",
    "    f_zero= zeros/n\n",
    "\n",
    "\n",
    "    print (format(f_positive, '.6f'))\n",
    "    print (format(f_negative, '.6f'))\n",
    "    print (format(f_zero,'.6f'))\n",
    "\n",
    "if __name__ == '__main__':\n",
    "    n = int(input())\n",
    "\n",
    "    arr = list(map(int, input().rstrip().split()))\n",
    "\n",
    "    plusMinus(arr)"
   ]
  }
 ],
 "metadata": {
  "kernelspec": {
   "display_name": "Python 3",
   "language": "python",
   "name": "python3"
  },
  "language_info": {
   "codemirror_mode": {
    "name": "ipython",
    "version": 3
   },
   "file_extension": ".py",
   "mimetype": "text/x-python",
   "name": "python",
   "nbconvert_exporter": "python",
   "pygments_lexer": "ipython3",
   "version": "3.7.4"
  }
 },
 "nbformat": 4,
 "nbformat_minor": 2
}
