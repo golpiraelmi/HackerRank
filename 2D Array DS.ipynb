{
 "cells": [
  {
   "cell_type": "code",
   "execution_count": null,
   "metadata": {},
   "outputs": [],
   "source": [
    "#!/bin/python3\n",
    "\n",
    "import math\n",
    "import os\n",
    "import random\n",
    "import re\n",
    "import sys\n",
    "\n",
    "# Complete the hourglassSum function below.\n",
    "def hourglassSum(arr):\n",
    "    hourglasses = []\n",
    "    for index, line1 in enumerate(arr):\n",
    "\n",
    "        if index + 2 == len(arr):\n",
    "            break\n",
    "\n",
    "        line2 = arr[index + 1]\n",
    "        line3 = arr[index + 2]\n",
    "\n",
    "        pattern1 = []\n",
    "        pattern2 = []\n",
    "\n",
    "        for j, val in enumerate(line1):\n",
    "            val2 = line2[j]\n",
    "            val3 = line3[j]\n",
    "\n",
    "            pattern1.append(val + val3)\n",
    "            pattern2.append(val + val2 + val3)\n",
    "            if len(pattern1) >= 3:\n",
    "                hourglasses.append(pattern1[-1] + pattern2[-2] + pattern1[-3])\n",
    "\n",
    "    return max(hourglasses)\n",
    "\n",
    "\n",
    "\n",
    "\n",
    "if __name__ == '__main__':\n",
    "    fptr = open(os.environ['OUTPUT_PATH'], 'w')\n",
    "\n",
    "    arr = []\n",
    "\n",
    "    for _ in range(6):\n",
    "        arr.append(list(map(int, input().rstrip().split())))\n",
    "\n",
    "    result = hourglassSum(arr)\n",
    "\n",
    "    fptr.write(str(result) + '\\n')"
   ]
  }
 ],
 "metadata": {
  "kernelspec": {
   "display_name": "Python 3",
   "language": "python",
   "name": "python3"
  },
  "language_info": {
   "codemirror_mode": {
    "name": "ipython",
    "version": 3
   },
   "file_extension": ".py",
   "mimetype": "text/x-python",
   "name": "python",
   "nbconvert_exporter": "python",
   "pygments_lexer": "ipython3",
   "version": "3.7.4"
  }
 },
 "nbformat": 4,
 "nbformat_minor": 2
}
