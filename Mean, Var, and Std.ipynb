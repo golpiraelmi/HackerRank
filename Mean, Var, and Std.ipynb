{
 "cells": [
  {
   "cell_type": "code",
   "execution_count": null,
   "metadata": {},
   "outputs": [],
   "source": [
    "import numpy as np \n",
    "\n",
    "np.set_printoptions(sign= \" \")\n",
    "\n",
    "n,m=map(int,input().split())\n",
    "res = np.array([list(map(int,input().split())) for _ in range(n)])\n",
    "\n",
    "print(np.mean(res,axis= 1))\n",
    "print(np.var(res , axis=0))\n",
    "print(round(np.std(res),12))"
   ]
  },
  {
   "cell_type": "code",
   "execution_count": null,
   "metadata": {},
   "outputs": [],
   "source": [
    "n = np.array([input().split() for _ in range(int(input().split()[0]))],int)\n",
    "numpy.set_printoptions(legacy='1.13')\n",
    "print(np.mean(n,axis=1),np.var(n,axis=0),np.std(n),sep=\"\\n\")"
   ]
  }
 ],
 "metadata": {
  "kernelspec": {
   "display_name": "Python 3",
   "language": "python",
   "name": "python3"
  },
  "language_info": {
   "codemirror_mode": {
    "name": "ipython",
    "version": 3
   },
   "file_extension": ".py",
   "mimetype": "text/x-python",
   "name": "python",
   "nbconvert_exporter": "python",
   "pygments_lexer": "ipython3",
   "version": "3.7.4"
  }
 },
 "nbformat": 4,
 "nbformat_minor": 2
}
