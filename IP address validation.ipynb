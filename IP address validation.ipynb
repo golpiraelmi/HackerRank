{
 "cells": [
  {
   "cell_type": "code",
   "execution_count": null,
   "metadata": {},
   "outputs": [],
   "source": [
    "import re\n",
    "n=int(input())\n",
    "\n",
    "pattern_1 = re.compile('(\\d+\\.){1,3}\\d+') #IPv4\n",
    "pattern_2 = re.compile('^(\\w{1,}:){7}\\w{1,}') #IPv6\n",
    "\n",
    "for l in range(n):\n",
    "    string= input()\n",
    "    if re.findall(pattern_1,string):\n",
    "        print ('IPv4')\n",
    "    elif re.findall(pattern_2,string):\n",
    "        print ('IPv6')\n",
    "    else:\n",
    "        print ('Neither')"
   ]
  },
  {
   "cell_type": "code",
   "execution_count": null,
   "metadata": {},
   "outputs": [],
   "source": []
  }
 ],
 "metadata": {
  "kernelspec": {
   "display_name": "Python 3",
   "language": "python",
   "name": "python3"
  },
  "language_info": {
   "codemirror_mode": {
    "name": "ipython",
    "version": 3
   },
   "file_extension": ".py",
   "mimetype": "text/x-python",
   "name": "python",
   "nbconvert_exporter": "python",
   "pygments_lexer": "ipython3",
   "version": "3.7.4"
  }
 },
 "nbformat": 4,
 "nbformat_minor": 2
}
