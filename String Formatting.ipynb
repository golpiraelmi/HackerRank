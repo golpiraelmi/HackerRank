{
 "cells": [
  {
   "cell_type": "code",
   "execution_count": null,
   "metadata": {},
   "outputs": [],
   "source": [
    "def print_formatted(number):\n",
    "    w=len(bin(number))-2\n",
    "\n",
    "    for i in range(1, number+1):\n",
    "        Octal=oct(i)\n",
    "        Haxadecimal=hex(i).upper()\n",
    "        Binary=bin(i)\n",
    "    \n",
    "        print (str(i).rjust(w), Octal[2:].rjust(w), Haxadecimal[2:].rjust(w), Binary[2:].rjust(w))\n",
    "    \n",
    "    \n",
    "\n",
    "if __name__ == '__main__':\n",
    "    n = int(input())\n",
    "    print_formatted(n)"
   ]
  }
 ],
 "metadata": {
  "kernelspec": {
   "display_name": "Python 3",
   "language": "python",
   "name": "python3"
  },
  "language_info": {
   "codemirror_mode": {
    "name": "ipython",
    "version": 3
   },
   "file_extension": ".py",
   "mimetype": "text/x-python",
   "name": "python",
   "nbconvert_exporter": "python",
   "pygments_lexer": "ipython3",
   "version": "3.7.4"
  }
 },
 "nbformat": 4,
 "nbformat_minor": 2
}
