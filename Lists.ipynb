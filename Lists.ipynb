{
 "cells": [
  {
   "cell_type": "code",
   "execution_count": null,
   "metadata": {},
   "outputs": [],
   "source": [
    "if __name__ == '__main__':\n",
    "    N = int(input())\n",
    "    result = []\n",
    "    for n in range(N):\n",
    "        x = input().split(\" \")\n",
    "        command = x[0]\n",
    "        if command == 'append':\n",
    "            result.append(int(x[1]))\n",
    "        if command == 'insert':\n",
    "            result.insert(int(x[1]), int(x[2]))\n",
    "        if command == 'reverse':\n",
    "            result.reverse()\n",
    "        if command == 'pop':\n",
    "            result.pop()\n",
    "        if command == 'sort':\n",
    "            result.sort()\n",
    "        if command == 'remove':\n",
    "            result.remove(int(x[1]))\n",
    "        if command == 'print':\n",
    "            print(result)"
   ]
  }
 ],
 "metadata": {
  "kernelspec": {
   "display_name": "Python 3",
   "language": "python",
   "name": "python3"
  },
  "language_info": {
   "codemirror_mode": {
    "name": "ipython",
    "version": 3
   },
   "file_extension": ".py",
   "mimetype": "text/x-python",
   "name": "python",
   "nbconvert_exporter": "python",
   "pygments_lexer": "ipython3",
   "version": "3.7.4"
  }
 },
 "nbformat": 4,
 "nbformat_minor": 2
}
