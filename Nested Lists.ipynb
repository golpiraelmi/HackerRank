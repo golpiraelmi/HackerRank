{
 "cells": [
  {
   "cell_type": "code",
   "execution_count": null,
   "metadata": {},
   "outputs": [],
   "source": [
    "if __name__ == '__main__':\n",
    "    marksheet = []\n",
    "    for _ in range(0,int(input())):\n",
    "        marksheet.append([input(), float(input())])\n",
    "\n",
    "    second_lowest = sorted(list(set([marks for name, marks in marksheet])))[1]\n",
    "    print('\\n'.join([a for a,b in sorted(marksheet) if b == second_lowest]))"
   ]
  }
 ],
 "metadata": {
  "kernelspec": {
   "display_name": "Python 3",
   "language": "python",
   "name": "python3"
  },
  "language_info": {
   "codemirror_mode": {
    "name": "ipython",
    "version": 3
   },
   "file_extension": ".py",
   "mimetype": "text/x-python",
   "name": "python",
   "nbconvert_exporter": "python",
   "pygments_lexer": "ipython3",
   "version": "3.7.4"
  }
 },
 "nbformat": 4,
 "nbformat_minor": 2
}
