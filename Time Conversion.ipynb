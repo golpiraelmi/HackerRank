{
 "cells": [
  {
   "cell_type": "code",
   "execution_count": null,
   "metadata": {},
   "outputs": [],
   "source": [
    "import os\n",
    "import sys\n",
    "\n",
    "#\n",
    "# Complete the timeConversion function below.\n",
    "#\n",
    "def timeConversion(s):\n",
    "    am_pm = s[8:]\n",
    "    s=s[:-2]\n",
    "    hour=int(s[:2])\n",
    "    \n",
    "    if am_pm=='AM':\n",
    "        if hour !=12:\n",
    "            return s\n",
    "        else:\n",
    "            return '00'+s[2:8]\n",
    "\n",
    "    else:\n",
    "        if hour !=12:   \n",
    "            hour = str(hour+12)\n",
    "            return hour+s[2:8]\n",
    "        else:\n",
    "            return s\n",
    "\n",
    "if __name__ == '__main__':\n",
    "    f = open(os.environ['OUTPUT_PATH'], 'w')\n",
    "\n",
    "    s = input()\n",
    "\n",
    "    result = timeConversion(s)\n",
    "\n",
    "    f.write(result + '\\n')\n",
    "\n",
    "    f.close()"
   ]
  }
 ],
 "metadata": {
  "kernelspec": {
   "display_name": "Python 3",
   "language": "python",
   "name": "python3"
  },
  "language_info": {
   "codemirror_mode": {
    "name": "ipython",
    "version": 3
   },
   "file_extension": ".py",
   "mimetype": "text/x-python",
   "name": "python",
   "nbconvert_exporter": "python",
   "pygments_lexer": "ipython3",
   "version": "3.7.4"
  }
 },
 "nbformat": 4,
 "nbformat_minor": 2
}
