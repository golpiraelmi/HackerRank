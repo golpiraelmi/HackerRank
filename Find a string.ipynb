{
 "cells": [
  {
   "cell_type": "code",
   "execution_count": null,
   "metadata": {},
   "outputs": [],
   "source": [
    "def count_substring(string, sub_string):\n",
    "    \n",
    "    # Initialize count and start to 0 \n",
    "    count = 0\n",
    "    start = 0\n",
    "    \n",
    "    # Search through the string till \n",
    "    # we reach the end of it \n",
    "    while start < len(string): \n",
    "        # Check if a substring is present from \n",
    "        # 'start' position till the end \n",
    "        pos = string.find(sub_string, start) \n",
    "        if pos != -1: \n",
    "            # If a substring is present, move 'start' to \n",
    "            # the next position from start of the substring \n",
    "            start = pos + 1\n",
    "            count += 1\n",
    "        else: \n",
    "            # If no further substring is present \n",
    "            break\n",
    "    # return the value of count \n",
    "    return count \n",
    "    \n",
    "\n",
    "if __name__ == '__main__':\n",
    "    string = input().strip()\n",
    "    sub_string = input().strip()\n",
    "    \n",
    "    count = count_substring(string, sub_string)\n",
    "    print(count)"
   ]
  },
  {
   "cell_type": "code",
   "execution_count": null,
   "metadata": {},
   "outputs": [],
   "source": []
  }
 ],
 "metadata": {
  "kernelspec": {
   "display_name": "Python 3",
   "language": "python",
   "name": "python3"
  },
  "language_info": {
   "codemirror_mode": {
    "name": "ipython",
    "version": 3
   },
   "file_extension": ".py",
   "mimetype": "text/x-python",
   "name": "python",
   "nbconvert_exporter": "python",
   "pygments_lexer": "ipython3",
   "version": "3.7.4"
  }
 },
 "nbformat": 4,
 "nbformat_minor": 2
}
