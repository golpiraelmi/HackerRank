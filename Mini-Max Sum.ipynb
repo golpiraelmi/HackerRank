{
 "cells": [
  {
   "cell_type": "code",
   "execution_count": null,
   "metadata": {},
   "outputs": [],
   "source": [
    "#!/bin/python3\n",
    "\n",
    "import math\n",
    "import os\n",
    "import random\n",
    "import re\n",
    "import sys\n",
    "\n",
    "# Complete the miniMaxSum function below.\n",
    "def miniMaxSum(arr):\n",
    "    arr.sort()\n",
    "    n = len (arr)\n",
    "    Min_sum =0\n",
    "    Max_sum =0\n",
    "    for i in range (n-1):\n",
    "        Min_sum = Min_sum + arr[i]\n",
    "    for j in range (n-1,0,-1):\n",
    "        Max_sum = Max_sum + arr[j]\n",
    "\n",
    "    print (Min_sum, Max_sum)\n",
    "    \n",
    "if __name__ == '__main__':\n",
    "    arr = list(map(int, input().rstrip().split()))\n",
    "\n",
    "    miniMaxSum(arr)"
   ]
  }
 ],
 "metadata": {
  "kernelspec": {
   "display_name": "Python 3",
   "language": "python",
   "name": "python3"
  },
  "language_info": {
   "codemirror_mode": {
    "name": "ipython",
    "version": 3
   },
   "file_extension": ".py",
   "mimetype": "text/x-python",
   "name": "python",
   "nbconvert_exporter": "python",
   "pygments_lexer": "ipython3",
   "version": "3.7.4"
  }
 },
 "nbformat": 4,
 "nbformat_minor": 2
}
