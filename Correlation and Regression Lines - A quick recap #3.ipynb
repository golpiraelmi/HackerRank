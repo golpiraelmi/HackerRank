{
 "cells": [
  {
   "cell_type": "code",
   "execution_count": null,
   "metadata": {},
   "outputs": [],
   "source": [
    "import math\n",
    "P = [15,12,8,8,7,7,7,6,5,3] \n",
    "H = [10,25,17,11,13,17,20,13,9,15]\n",
    "\n",
    "n = len(P)\n",
    "\n",
    "x_y = sum([p*h for (p,h) in zip(P,H)])\n",
    "x = sum(P)\n",
    "y = sum(H)\n",
    "x_x = sum([p**2 for p in P])\n",
    "\n",
    "a = (y*x_x - x*x_y) / (n*x_x - x**2)\n",
    "b = (n*x_y - x*y) / (n*x_x - x**2)\n",
    "\n",
    "result = a + b*10\n",
    "\n",
    "print(round(result,1))"
   ]
  }
 ],
 "metadata": {
  "kernelspec": {
   "display_name": "Python 3",
   "language": "python",
   "name": "python3"
  },
  "language_info": {
   "codemirror_mode": {
    "name": "ipython",
    "version": 3
   },
   "file_extension": ".py",
   "mimetype": "text/x-python",
   "name": "python",
   "nbconvert_exporter": "python",
   "pygments_lexer": "ipython3",
   "version": "3.7.4"
  }
 },
 "nbformat": 4,
 "nbformat_minor": 2
}
