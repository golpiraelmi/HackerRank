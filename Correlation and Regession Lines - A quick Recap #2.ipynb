{
 "cells": [
  {
   "cell_type": "code",
   "execution_count": null,
   "metadata": {},
   "outputs": [],
   "source": [
    "from sklearn import linear_model\n",
    "\n",
    "clf = linear_model.LinearRegression()\n",
    "F, N = map(int,input().split())\n",
    "ls =[]\n",
    "un =[]\n",
    "for j in range(0,N):\n",
    "    arr = input().split()\n",
    "    ls.append([float(i) for i in arr])\n",
    "t=int(input())\n",
    "for i in range(0,t):    \n",
    "    arr = input().split()\n",
    "    un.append([float(i) for i in arr])\n",
    "ppsqi=[]\n",
    "for i in range(0,N):\n",
    "    ppsqi.append(ls[i][-1])\n",
    "    del ls[i][-1]\n",
    "    \n",
    "\n",
    "clf.fit(ls,ppsqi)\n",
    "for i in clf.predict(un):\n",
    "    print(\"%2.f\" % i)"
   ]
  }
 ],
 "metadata": {
  "kernelspec": {
   "display_name": "Python 3",
   "language": "python",
   "name": "python3"
  },
  "language_info": {
   "codemirror_mode": {
    "name": "ipython",
    "version": 3
   },
   "file_extension": ".py",
   "mimetype": "text/x-python",
   "name": "python",
   "nbconvert_exporter": "python",
   "pygments_lexer": "ipython3",
   "version": "3.7.4"
  }
 },
 "nbformat": 4,
 "nbformat_minor": 2
}
