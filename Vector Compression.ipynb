{
 "cells": [
  {
   "cell_type": "code",
   "execution_count": 97,
   "metadata": {},
   "outputs": [
    {
     "name": "stdout",
     "output_type": "stream",
     "text": [
      "[1, 3, 5, 3, 2, 9, 3, 5]\n"
     ]
    }
   ],
   "source": [
    "arr=[1,1,1,5,3,3,9,3,3,3,3,3]\n",
    "\n",
    "\n",
    "def compress_array(arr):\n",
    "    counter=1\n",
    "    output=[arr[0]]\n",
    "    \n",
    "    for i in range(len(arr)-1):\n",
    "      \n",
    "        if arr[i+1]==arr[i]:\n",
    "            counter+=1\n",
    "           \n",
    "            if i+1==len(arr)-1:\n",
    "                output.append(counter)\n",
    "            \n",
    "        elif arr[i+1]!=arr[i]:\n",
    "            if counter!=1:\n",
    "                output.append(counter)\n",
    "            output.append(arr[i+1])\n",
    "            counter=1\n",
    "           \n",
    "    print(output)\n",
    "            \n",
    "    \n",
    "compress_array(arr)"
   ]
  },
  {
   "cell_type": "code",
   "execution_count": null,
   "metadata": {},
   "outputs": [],
   "source": []
  }
 ],
 "metadata": {
  "kernelspec": {
   "display_name": "Python 3",
   "language": "python",
   "name": "python3"
  },
  "language_info": {
   "codemirror_mode": {
    "name": "ipython",
    "version": 3
   },
   "file_extension": ".py",
   "mimetype": "text/x-python",
   "name": "python",
   "nbconvert_exporter": "python",
   "pygments_lexer": "ipython3",
   "version": "3.7.4"
  }
 },
 "nbformat": 4,
 "nbformat_minor": 2
}
